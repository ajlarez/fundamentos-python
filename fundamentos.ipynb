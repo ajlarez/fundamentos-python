{
 "cells": [
  {
   "cell_type": "code",
   "execution_count": null,
   "metadata": {},
   "outputs": [],
   "source": [
    "#### fundamentos de python \n",
    "# variable\n",
    "number_1 = 20\n",
    "number_2 = 5\n",
    "## condicionales\n",
    "if number_1 > number_2:\n",
    "    print(\"el numero 1 es mayor que el numero 2\")\n"
   ]
  },
  {
   "cell_type": "code",
   "execution_count": 3,
   "metadata": {},
   "outputs": [
    {
     "name": "stdout",
     "output_type": "stream",
     "text": [
      "hola mundo\n"
     ]
    }
   ],
   "source": [
    "print(\"hola mundo\")"
   ]
  },
  {
   "cell_type": "code",
   "execution_count": 4,
   "metadata": {},
   "outputs": [],
   "source": [
    "# variables\n",
    "name = \"juan\"\n",
    "Name = \"pedro\"\n",
    "last_name = \"perez\""
   ]
  },
  {
   "cell_type": "code",
   "execution_count": 5,
   "metadata": {},
   "outputs": [],
   "source": [
    "# mala practica variable con letra en mayuscula\n",
    "Last_Name = \"gomez\""
   ]
  },
  {
   "cell_type": "code",
   "execution_count": 7,
   "metadata": {},
   "outputs": [],
   "source": [
    "# OPERADORES MATEMATICOS \n",
    "number_1 = 10\n",
    "number_2 = 5"
   ]
  },
  {
   "cell_type": "code",
   "execution_count": 8,
   "metadata": {},
   "outputs": [],
   "source": [
    "# suma\n",
    "result = number_1 + number_2 \n"
   ]
  },
  {
   "cell_type": "code",
   "execution_count": 9,
   "metadata": {},
   "outputs": [
    {
     "name": "stdout",
     "output_type": "stream",
     "text": [
      "15\n"
     ]
    }
   ],
   "source": [
    "print(result)   "
   ]
  },
  {
   "cell_type": "code",
   "execution_count": 11,
   "metadata": {},
   "outputs": [
    {
     "name": "stdout",
     "output_type": "stream",
     "text": [
      "5\n"
     ]
    }
   ],
   "source": [
    "# resta\n",
    "result_sub = number_1 - number_2\n",
    "print(result_sub)\n",
    "\n"
   ]
  },
  {
   "cell_type": "code",
   "execution_count": 12,
   "metadata": {},
   "outputs": [
    {
     "name": "stdout",
     "output_type": "stream",
     "text": [
      "50\n"
     ]
    }
   ],
   "source": [
    "# multiplicacion\n",
    "result_mult = number_1 * number_2\n",
    "print(result_mult)\n"
   ]
  },
  {
   "cell_type": "code",
   "execution_count": 13,
   "metadata": {},
   "outputs": [
    {
     "name": "stdout",
     "output_type": "stream",
     "text": [
      "2.0\n"
     ]
    }
   ],
   "source": [
    "# division\n",
    "result_div = number_1 / number_2\n",
    "print(result_div)\n"
   ]
  },
  {
   "cell_type": "code",
   "execution_count": 14,
   "metadata": {},
   "outputs": [
    {
     "name": "stdout",
     "output_type": "stream",
     "text": [
      "5\n"
     ]
    }
   ],
   "source": [
    "print(result_sub)"
   ]
  },
  {
   "cell_type": "code",
   "execution_count": 15,
   "metadata": {},
   "outputs": [
    {
     "data": {
      "text/plain": [
       "int"
      ]
     },
     "execution_count": 15,
     "metadata": {},
     "output_type": "execute_result"
    }
   ],
   "source": [
    "type(result_sub)"
   ]
  },
  {
   "cell_type": "code",
   "execution_count": 16,
   "metadata": {},
   "outputs": [
    {
     "data": {
      "text/plain": [
       "str"
      ]
     },
     "execution_count": 16,
     "metadata": {},
     "output_type": "execute_result"
    }
   ],
   "source": [
    "type(Last_Name)"
   ]
  },
  {
   "cell_type": "code",
   "execution_count": 17,
   "metadata": {},
   "outputs": [
    {
     "data": {
      "text/plain": [
       "'perez'"
      ]
     },
     "execution_count": 17,
     "metadata": {},
     "output_type": "execute_result"
    }
   ],
   "source": [
    "last_name"
   ]
  },
  {
   "cell_type": "code",
   "execution_count": 18,
   "metadata": {},
   "outputs": [
    {
     "name": "stdout",
     "output_type": "stream",
     "text": [
      "gomez\n"
     ]
    }
   ],
   "source": [
    "print(Last_Name)"
   ]
  },
  {
   "cell_type": "code",
   "execution_count": 19,
   "metadata": {},
   "outputs": [
    {
     "data": {
      "text/plain": [
       "9"
      ]
     },
     "execution_count": 19,
     "metadata": {},
     "output_type": "execute_result"
    }
   ],
   "source": [
    "4 + 5\n"
   ]
  },
  {
   "cell_type": "code",
   "execution_count": 20,
   "metadata": {},
   "outputs": [],
   "source": [
    "# operadores de comparacion\n",
    "# == igual\n",
    "# != diferente\n",
    "# > mayor\n",
    "# < menor\n",
    "# >= mayor o igual\n",
    "# <= menor o igual\n"
   ]
  },
  {
   "cell_type": "code",
   "execution_count": 21,
   "metadata": {},
   "outputs": [],
   "source": [
    "# operadores booleanos\n",
    "# true\n",
    "# false\n"
   ]
  },
  {
   "cell_type": "code",
   "execution_count": 22,
   "metadata": {},
   "outputs": [
    {
     "data": {
      "text/plain": [
       "True"
      ]
     },
     "execution_count": 22,
     "metadata": {},
     "output_type": "execute_result"
    }
   ],
   "source": [
    "# ejemplos \n",
    "4 == 4 "
   ]
  },
  {
   "cell_type": "code",
   "execution_count": 23,
   "metadata": {},
   "outputs": [
    {
     "data": {
      "text/plain": [
       "False"
      ]
     },
     "execution_count": 23,
     "metadata": {},
     "output_type": "execute_result"
    }
   ],
   "source": [
    "number_1 == number_2"
   ]
  },
  {
   "cell_type": "code",
   "execution_count": 24,
   "metadata": {},
   "outputs": [
    {
     "data": {
      "text/plain": [
       "True"
      ]
     },
     "execution_count": 24,
     "metadata": {},
     "output_type": "execute_result"
    }
   ],
   "source": [
    "number_1 > number_2"
   ]
  },
  {
   "cell_type": "code",
   "execution_count": 25,
   "metadata": {},
   "outputs": [
    {
     "data": {
      "text/plain": [
       "False"
      ]
     },
     "execution_count": 25,
     "metadata": {},
     "output_type": "execute_result"
    }
   ],
   "source": [
    "number_1 <= number_2"
   ]
  },
  {
   "cell_type": "code",
   "execution_count": 26,
   "metadata": {},
   "outputs": [
    {
     "name": "stdout",
     "output_type": "stream",
     "text": [
      "el numero 1 es mayor que el numero 2\n"
     ]
    }
   ],
   "source": [
    "# condicionales\n",
    "if number_1 > number_2:\n",
    "    print(\"el numero 1 es mayor que el numero 2\")"
   ]
  },
  {
   "cell_type": "code",
   "execution_count": 27,
   "metadata": {},
   "outputs": [
    {
     "ename": "SyntaxError",
     "evalue": "expected ':' (3315900563.py, line 2)",
     "output_type": "error",
     "traceback": [
      "\u001b[1;36m  Cell \u001b[1;32mIn[27], line 2\u001b[1;36m\u001b[0m\n\u001b[1;33m    if number_1 > number_2\u001b[0m\n\u001b[1;37m                          ^\u001b[0m\n\u001b[1;31mSyntaxError\u001b[0m\u001b[1;31m:\u001b[0m expected ':'\n"
     ]
    }
   ],
   "source": [
    "# condicionales\n",
    "if number_1 > number_2:\n",
    "    print(\"el numero 1 es mayor que el numero 2\")"
   ]
  },
  {
   "cell_type": "code",
   "execution_count": 28,
   "metadata": {},
   "outputs": [
    {
     "ename": "IndentationError",
     "evalue": "expected an indented block after 'if' statement on line 2 (1925304083.py, line 3)",
     "output_type": "error",
     "traceback": [
      "\u001b[1;36m  Cell \u001b[1;32mIn[28], line 3\u001b[1;36m\u001b[0m\n\u001b[1;33m    print(\"el numero 1 es mayor que el numero 2\")\u001b[0m\n\u001b[1;37m    ^\u001b[0m\n\u001b[1;31mIndentationError\u001b[0m\u001b[1;31m:\u001b[0m expected an indented block after 'if' statement on line 2\n"
     ]
    }
   ],
   "source": [
    "# condicionales\n",
    "if number_1 > number_2:\n",
    "\tprint(\"el numero 1 es mayor que el numero 2\")"
   ]
  },
  {
   "cell_type": "code",
   "execution_count": 30,
   "metadata": {},
   "outputs": [
    {
     "name": "stdout",
     "output_type": "stream",
     "text": [
      "el numero 1 es menor que el numero 2\n"
     ]
    }
   ],
   "source": [
    "# condicionales\n",
    "if number_1 < number_2:\n",
    "    print(\"el numero 1 es mayor que el numero 2\")\n",
    "else:\n",
    "    print(\"el numero 1 es menor que el numero 2\")"
   ]
  },
  {
   "cell_type": "code",
   "execution_count": 31,
   "metadata": {},
   "outputs": [
    {
     "name": "stdout",
     "output_type": "stream",
     "text": [
      "los numeros son iguales\n"
     ]
    }
   ],
   "source": [
    "# condicionales\n",
    "number_1 = 20\n",
    "number_2 = 20\n",
    "\n",
    "if number_1 > number_2:\n",
    "    print(\"el numero 1 es mayor que el numero 2\")\n",
    "elif number_1 == number_2:\n",
    "    print(\"los numeros son iguales\")\n",
    "else:\n",
    "    print(\"el numero 1 es menor que el numero 2\")\n",
    "    "
   ]
  },
  {
   "cell_type": "code",
   "execution_count": 32,
   "metadata": {},
   "outputs": [
    {
     "name": "stdout",
     "output_type": "stream",
     "text": [
      "los numeros son iguales\n"
     ]
    }
   ],
   "source": [
    "#condicionales anidados\n",
    "number_1 = 20\n",
    "number_2 = 20\n",
    "\n",
    "if number_1 > number_2:\n",
    "    if number_1 > 10:\n",
    "        print(\"el numero 1 es mayor que el numero 2 y mayor a 10\")\n",
    "elif number_1 == number_2:\n",
    "    print(\"los numeros son iguales\")\n",
    "else:\n",
    "    print(\"el numero 1 es menor que el numero 2\")\n",
    "    "
   ]
  },
  {
   "cell_type": "code",
   "execution_count": 34,
   "metadata": {},
   "outputs": [
    {
     "name": "stdout",
     "output_type": "stream",
     "text": [
      "el numero 1 es mayor que el numero 2 y mayor a 10\n"
     ]
    }
   ],
   "source": [
    "# operadores logicos\n",
    "# and\n",
    "# or\n",
    "# not\n",
    "number_1 = 20\n",
    "number_2 = 10\n",
    "\n",
    "if (number_1 > number_2) and (number_1 > 10):\n",
    "    print(\"el numero 1 es mayor que el numero 2 y mayor a 10\")\n",
    "elif number_1 < number_2:\n",
    "    print(\"el numero 1 es menor que el numero 2\")\n",
    "else:\n",
    "    print(\"los numeros son iguales\")\n",
    "\n"
   ]
  },
  {
   "cell_type": "code",
   "execution_count": 38,
   "metadata": {},
   "outputs": [
    {
     "name": "stdout",
     "output_type": "stream",
     "text": [
      "el 20 es mayor que el 5 y mayor a 10\n"
     ]
    }
   ],
   "source": [
    "# operadores logicos\n",
    "# and\n",
    "# or\n",
    "# not\n",
    "number_1 = 20\n",
    "number_2 = 5\n",
    "\n",
    "if (number_1 > number_2) and (number_1 > 10):\n",
    "    print(f\"el {number_1} es mayor que el {number_2} y mayor a 10\")\n",
    "elif number_1 < number_2:\n",
    "    print(f\"el {number_1} es menor que el {number_2}\")\n",
    "else:\n",
    "    print(\"los numeros son iguales\")"
   ]
  },
  {
   "cell_type": "code",
   "execution_count": 40,
   "metadata": {},
   "outputs": [
    {
     "name": "stdout",
     "output_type": "stream",
     "text": [
      "¡Hola, anthony y jose! ¡Vamos a jugar piedra, papel o tijera!\n",
      "anthony eligió: papel\n",
      "jose eligió: tijera\n",
      "¡jose gana!\n",
      "¡Gracias por jugar!\n"
     ]
    }
   ],
   "source": [
    "# piedra paepel o tijera\n",
    "\n",
    "def jugar():\n",
    "    jugador1 = input(\"Ingresa el nombre del Jugador 1: \")\n",
    "    jugador2 = input(\"Ingresa el nombre del Jugador 2: \")\n",
    "\n",
    "    print(f\"¡Hola, {jugador1} y {jugador2}! ¡Vamos a jugar piedra, papel o tijera!\")\n",
    "\n",
    "    opciones = [\"piedra\", \"papel\", \"tijera\"]\n",
    "\n",
    "    while True:\n",
    "        eleccion_jugador1 = input(f\"{jugador1}, elige piedra, papel o tijera (o escribe 'salir' para terminar): \").lower()\n",
    "\n",
    "        if eleccion_jugador1 == \"salir\":\n",
    "            break\n",
    "\n",
    "        if eleccion_jugador1 not in opciones:\n",
    "            print(\"¡Opción no válida! Inténtalo de nuevo.\")\n",
    "            continue\n",
    "\n",
    "        eleccion_jugador2 = input(f\"{jugador2}, elige piedra, papel o tijera: \").lower()\n",
    "\n",
    "        if eleccion_jugador2 not in opciones:\n",
    "            print(\"¡Opción no válida! Inténtalo de nuevo.\")\n",
    "            continue\n",
    "\n",
    "        print(f\"{jugador1} eligió: {eleccion_jugador1}\")\n",
    "        print(f\"{jugador2} eligió: {eleccion_jugador2}\")\n",
    "\n",
    "        if eleccion_jugador1 == eleccion_jugador2:\n",
    "            print(\"¡Empate!\")\n",
    "        elif (eleccion_jugador1 == \"piedra\" and eleccion_jugador2 == \"tijera\") or \\\n",
    "             (eleccion_jugador1 == \"papel\" and eleccion_jugador2 == \"piedra\") or \\\n",
    "             (eleccion_jugador1 == \"tijera\" and eleccion_jugador2 == \"papel\"):\n",
    "            print(f\"¡{jugador1} gana!\")\n",
    "        else:\n",
    "            print(f\"¡{jugador2} gana!\")\n",
    "\n",
    "    print(\"¡Gracias por jugar!\")\n",
    "\n",
    "jugar()"
   ]
  },
  {
   "cell_type": "markdown",
   "metadata": {},
   "source": [
    "# estructuras de datos basicas "
   ]
  },
  {
   "cell_type": "code",
   "execution_count": null,
   "metadata": {},
   "outputs": [],
   "source": [
    "# int\n",
    "# float\n",
    "# str\n",
    "# list\n",
    "              #0      1          2       3 \n",
    "             #-4      -3         -2      -1\n",
    "list_names = [\"Juan\", \"Pedro\", \"Maria\",\"Ana\"]"
   ]
  },
  {
   "cell_type": "code",
   "execution_count": 2,
   "metadata": {},
   "outputs": [
    {
     "data": {
      "text/plain": [
       "'Juan'"
      ]
     },
     "execution_count": 2,
     "metadata": {},
     "output_type": "execute_result"
    }
   ],
   "source": [
    "list_names[0]"
   ]
  },
  {
   "cell_type": "code",
   "execution_count": 3,
   "metadata": {},
   "outputs": [
    {
     "data": {
      "text/plain": [
       "'Pedro'"
      ]
     },
     "execution_count": 3,
     "metadata": {},
     "output_type": "execute_result"
    }
   ],
   "source": [
    "list_names[1]\n"
   ]
  },
  {
   "cell_type": "code",
   "execution_count": 5,
   "metadata": {},
   "outputs": [
    {
     "data": {
      "text/plain": [
       "['Juan', 'Pedro']"
      ]
     },
     "execution_count": 5,
     "metadata": {},
     "output_type": "execute_result"
    }
   ],
   "source": [
    "# slice de listas\n",
    "# [ start: stop : step]\n",
    "list_names[0:2] # el stop no esta incluido en este ejemplo se toma los dos nombres antes del stop"
   ]
  },
  {
   "cell_type": "code",
   "execution_count": 6,
   "metadata": {},
   "outputs": [
    {
     "data": {
      "text/plain": [
       "['Pedro', 'Maria']"
      ]
     },
     "execution_count": 6,
     "metadata": {},
     "output_type": "execute_result"
    }
   ],
   "source": [
    "list_names[1:3]"
   ]
  },
  {
   "cell_type": "code",
   "execution_count": 8,
   "metadata": {},
   "outputs": [],
   "source": [
    "# list methods\n",
    "# append\n",
    "list_names.append(\"Carlos\")"
   ]
  },
  {
   "cell_type": "code",
   "execution_count": 9,
   "metadata": {},
   "outputs": [
    {
     "data": {
      "text/plain": [
       "['Pedro', 'Maria', 'Ana', 'Carlos']"
      ]
     },
     "execution_count": 9,
     "metadata": {},
     "output_type": "execute_result"
    }
   ],
   "source": [
    "list_names"
   ]
  },
  {
   "cell_type": "code",
   "execution_count": 10,
   "metadata": {},
   "outputs": [
    {
     "data": {
      "text/plain": [
       "4"
      ]
     },
     "execution_count": 10,
     "metadata": {},
     "output_type": "execute_result"
    }
   ],
   "source": [
    "# longitud de la lista\n",
    "len(list_names)"
   ]
  },
  {
   "cell_type": "code",
   "execution_count": 11,
   "metadata": {},
   "outputs": [
    {
     "name": "stdout",
     "output_type": "stream",
     "text": [
      "Pedro\n",
      "Maria\n",
      "Ana\n",
      "Carlos\n"
     ]
    }
   ],
   "source": [
    "# ciclos for\n",
    "for name in list_names:\n",
    "    print(name)\n"
   ]
  },
  {
   "cell_type": "code",
   "execution_count": null,
   "metadata": {},
   "outputs": [
    {
     "name": "stdout",
     "output_type": "stream",
     "text": [
      "Ana esta en la lista\n"
     ]
    }
   ],
   "source": [
    "# ciclos for\n",
    "for name in list_names:\n",
    "    # buscar el nombre ana en la lista en minusculas\n",
    "    if name.lower() == \"ana\":\n",
    "        print(\"Ana esta en la lista\")\n",
    "        break\n",
    "    \n"
   ]
  },
  {
   "cell_type": "code",
   "execution_count": null,
   "metadata": {},
   "outputs": [],
   "source": [
    "# dicicionarios\n",
    "# key: value\n",
    "dict_names = {\n",
    "    \"name\": \"Juan\",\n",
    "    \"last_name\": \"Perez\",\n",
    "    \"age\": [25,43,12],\n",
    "}"
   ]
  },
  {
   "cell_type": "code",
   "execution_count": null,
   "metadata": {},
   "outputs": [],
   "source": []
  }
 ],
 "metadata": {
  "kernelspec": {
   "display_name": "Python 3",
   "language": "python",
   "name": "python3"
  },
  "language_info": {
   "codemirror_mode": {
    "name": "ipython",
    "version": 3
   },
   "file_extension": ".py",
   "mimetype": "text/x-python",
   "name": "python",
   "nbconvert_exporter": "python",
   "pygments_lexer": "ipython3",
   "version": "3.13.2"
  }
 },
 "nbformat": 4,
 "nbformat_minor": 2
}
